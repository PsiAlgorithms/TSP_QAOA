{
 "cells": [
  {
   "cell_type": "code",
   "execution_count": 6,
   "id": "4fa276f3-fcc8-4206-9428-712c67813d5d",
   "metadata": {},
   "outputs": [],
   "source": [
    "import pickle as pkl\n",
    "from tsp_qaoa import TSP_QAOA"
   ]
  },
  {
   "cell_type": "code",
   "execution_count": 7,
   "id": "882259ba-9c1c-4793-b53a-6a3f4aff63a0",
   "metadata": {},
   "outputs": [],
   "source": [
    "with open(\"./data/coordinates.pkl\", \"rb\") as data:\n",
    "    coordinates = pkl.load(data)"
   ]
  },
  {
   "cell_type": "code",
   "execution_count": 9,
   "id": "eaea49e8-4e1d-40ff-a6fd-60f53f9f7dc5",
   "metadata": {},
   "outputs": [],
   "source": [
    "nlayer = 1\n",
    "niter = 1"
   ]
  },
  {
   "cell_type": "code",
   "execution_count": null,
   "id": "f3a39ab4-dfe3-4f89-a57d-776bb9627109",
   "metadata": {},
   "outputs": [],
   "source": [
    "results_n2 = []\n",
    "for i in range(len(coordinates)):\n",
    "    print(f\"Sample {i+1} started:\")\n",
    "    tsp_qaoa = TSP_QAOA(\"n2\", coordinates[i])\n",
    "    tsp_qaoa.generate_coeffs()\n",
    "    tsp_qaoa.generate_hamiltonians()\n",
    "    tsp_qaoa.optimize_objective(nlayer=nlayer, niter=niter)\n",
    "    tsp_qaoa.results_from_params()\n",
    "    results_n2.append(tsp_qaoa)"
   ]
  },
  {
   "cell_type": "code",
   "execution_count": null,
   "id": "1145a18b-670c-45ac-a803-ac8ffc9e3d0d",
   "metadata": {},
   "outputs": [],
   "source": [
    "results_nlogn = []\n",
    "for i in range(len(coordinates)):\n",
    "    print(f\"Sample {i+1} started:\")\n",
    "    tsp_qaoa = TSP_QAOA(\"nlogn\", coordinates[i])\n",
    "    tsp_qaoa.generate_coeffs()\n",
    "    tsp_qaoa.generate_hamiltonians()\n",
    "    tsp_qaoa.optimize_objective(nlayer=nlayer, niter=niter)\n",
    "    tsp_qaoa.results_from_params()\n",
    "    results_nlogn.append(tsp_qaoa)"
   ]
  },
  {
   "cell_type": "code",
   "execution_count": null,
   "id": "8dbcd8f2-87b5-4b9c-98d1-ff763ff5f3c8",
   "metadata": {},
   "outputs": [],
   "source": [
    "aggregate_result = {}\n",
    "for metric in [\"ar\", \"tp\", \"rn\"]:\n",
    "        aggregate_result[metric + \"_n2\"] = np.empty((len(coordinates), nlayer))\n",
    "        aggregate_result[metric + \"_nlogn\"] = np.empty((len(coordinates), nlayer))\n",
    "\n",
    "aggregate_serr = {}\n",
    "aggregate_mean = {}\n",
    "for k, v in aggregate_result.items():\n",
    "    aggregate_serr[k] = v.std(axis=0) / np.sqrt(len(coordinates)) * 1.96  # 0.95\n",
    "    aggregate_mean[k] = v.mean(axis=0)"
   ]
  },
  {
   "cell_type": "code",
   "execution_count": null,
   "id": "a89ac8d0-fb66-4e65-8778-3d6059a155ea",
   "metadata": {},
   "outputs": [],
   "source": [
    "def subplot(ax, d1, d2, yerr1, yerr2, ylabel):\n",
    "    ax.errorbar(np.arange(1,6), d2, yerr2, label=\"$n^2$ encoding\", linestyle=\"dashed\", c='royalblue',\n",
    "                solid_capstyle='projecting', capsize=5, marker=\"D\", markersize=5)\n",
    "    ax.errorbar(np.arange(1,6), d1, yerr1, label=\"$n log n$ encoding\", linestyle=\"dotted\", c='green',\n",
    "                solid_capstyle='projecting', capsize=5, marker=\"s\", markersize=5)\n",
    "    ax.legend()\n",
    "    ax.set_xlabel(\"Number of Layers\")\n",
    "    ax.set_ylabel(ylabel)\n",
    "    ax.set_xticks(np.arange(1,6))\n",
    "    ax.set_xlim([0.75, 5.8])\n",
    "    ax.grid(True, linestyle='dotted', alpha=0.5)"
   ]
  },
  {
   "cell_type": "code",
   "execution_count": null,
   "id": "1e687d24-0e16-403e-a00a-b1b965f46561",
   "metadata": {},
   "outputs": [],
   "source": [
    "fig, [ax1, ax2, ax3] = plt.subplots(1, 3, figsize=(15, 4), dpi=100)\n",
    "plt.subplots_adjust(wspace=0.22)\n",
    "\n",
    "subplot(ax1, aggregate_mean[\"ar_nlogn\"], aggregate_mean[\"ar_n2\"],\n",
    "        aggregate_serr[\"ar_nlogn\"], aggregate_serr[\"ar_n2\"], \"AR\")\n",
    "ax1.annotate(round(aggregate_mean[\"ar_n2\"][-1], 1), [5.2, aggregate_mean[\"ar_n2\"][-1]-0.2])\n",
    "ax1.annotate(round(aggregate_mean[\"ar_nlogn\"][-1], 1), [5.2, aggregate_mean[\"ar_nlogn\"][-1]-0.2])\n",
    "ax1.axhline(1, linestyle='--', c='grey', )\n",
    "ax1.set_yticks(np.arange(1, 15, 2))\n",
    "\n",
    "\n",
    "subplot(ax2, aggregate_mean[\"tp_nlogn\"]*100, aggregate_mean[\"tp_n2\"]*100,\n",
    "        aggregate_serr[\"tp_nlogn\"]*100, aggregate_serr[\"tp_n2\"]*100, \"True Percentage\")\n",
    "ax2.annotate(round(aggregate_mean[\"tp_n2\"][-1]*100, 1), [5.2, aggregate_mean[\"tp_n2\"][-1]*100-0.2])\n",
    "ax2.annotate(round(aggregate_mean[\"tp_nlogn\"][-1]*100, 1), [5.2, aggregate_mean[\"tp_nlogn\"][-1]*100-0.2])\n",
    "ax2.set_yticks(np.arange(0, 21, 2))\n",
    "\n",
    "subplot(ax3, aggregate_mean[\"rn_nlogn\"], aggregate_mean[\"rn_n2\"],\n",
    "        aggregate_serr[\"rn_nlogn\"], aggregate_serr[\"rn_n2\"], \"Rank\")\n",
    "ax3.annotate(round(aggregate_mean[\"rn_n2\"][-1], 1), [5.2, aggregate_mean[\"rn_n2\"][-1]-0.2])\n",
    "ax3.annotate(round(aggregate_mean[\"rn_nlogn\"][-1], 1), [5.2, aggregate_mean[\"rn_nlogn\"][-1]-0.2])\n",
    "ax3.set_yscale('log')\n",
    "ax3.axhline(1, linestyle='--', c='grey', )\n",
    "\n",
    "plt.show()"
   ]
  }
 ],
 "metadata": {
  "kernelspec": {
   "display_name": "Python 3 (ipykernel)",
   "language": "python",
   "name": "python3"
  },
  "language_info": {
   "codemirror_mode": {
    "name": "ipython",
    "version": 3
   },
   "file_extension": ".py",
   "mimetype": "text/x-python",
   "name": "python",
   "nbconvert_exporter": "python",
   "pygments_lexer": "ipython3",
   "version": "3.10.13"
  }
 },
 "nbformat": 4,
 "nbformat_minor": 5
}
